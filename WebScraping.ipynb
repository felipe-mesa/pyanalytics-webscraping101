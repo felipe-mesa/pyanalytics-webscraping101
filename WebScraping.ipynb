{
  "nbformat": 4,
  "nbformat_minor": 0,
  "metadata": {
    "colab": {
      "name": "WebScraping.ipynb",
      "provenance": [],
      "toc_visible": true,
      "authorship_tag": "ABX9TyOQuzD/qlQk5GqrZtOuG/MV",
      "include_colab_link": true
    },
    "kernelspec": {
      "name": "python3",
      "display_name": "Python 3"
    }
  },
  "cells": [
    {
      "cell_type": "markdown",
      "metadata": {
        "id": "view-in-github",
        "colab_type": "text"
      },
      "source": [
        "<a href=\"https://colab.research.google.com/github/stephfz/pyanalytics-webscraping101/blob/master/WebScraping.ipynb\" target=\"_parent\"><img src=\"https://colab.research.google.com/assets/colab-badge.svg\" alt=\"Open In Colab\"/></a>"
      ]
    },
    {
      "cell_type": "markdown",
      "metadata": {
        "id": "eSYN-4yYZlbM"
      },
      "source": [
        "# AboutMe\n",
        "\n",
        "**Stephanie Frias** / [@_stephfz_](https://twitter.com/_stephfz_)\n",
        "\n",
        "\n",
        "*   Ingeniera de Software 👩‍💻\n",
        "*   Sr. SDET @ Evernote 🐘\n",
        "*   Peruana 🇵🇪\n",
        "\n",
        "\n"
      ]
    },
    {
      "cell_type": "markdown",
      "metadata": {
        "id": "LZkTP8d7kddK"
      },
      "source": [
        "# Web Scraping con python\n",
        "\n",
        "¿Qué es webscraping?\n",
        "Es la extracción de data que podemos encontrar en alguna website\n",
        "\n",
        "\n",
        "\n"
      ]
    },
    {
      "cell_type": "markdown",
      "metadata": {
        "id": "AhPiO_k2ezYv"
      },
      "source": [
        "## ¿Cómo funciona un web scraper?\n",
        "Un web scraper toma una url determinada y \"se carga\" todo el contenido HTML. Es por esto que súper importante entender a full HTML y conocer de css ya que podremos iniciar la extraccion indicandole al scraper en que etiquetas o nodos encontrará la data que le requerimos. \n"
      ]
    },
    {
      "cell_type": "markdown",
      "metadata": {
        "id": "V9VXURQil7qJ"
      },
      "source": [
        "# ¿Qué vamos a emplear?"
      ]
    },
    {
      "cell_type": "code",
      "metadata": {
        "colab": {
          "base_uri": "https://localhost:8080/"
        },
        "id": "Mvht7i7LZqMY",
        "outputId": "c7f473db-061b-4b86-c490-49823297c567"
      },
      "source": [
        "!pip install beautifulsoup4"
      ],
      "execution_count": 1,
      "outputs": [
        {
          "output_type": "stream",
          "text": [
            "Requirement already satisfied: beautifulsoup4 in /usr/local/lib/python3.6/dist-packages (4.6.3)\n"
          ],
          "name": "stdout"
        }
      ]
    },
    {
      "cell_type": "code",
      "metadata": {
        "colab": {
          "base_uri": "https://localhost:8080/"
        },
        "id": "KsNFJbqlaJUh",
        "outputId": "00b9306d-aeed-405d-f6cb-8f5c578b80a8"
      },
      "source": [
        "!pip install requests"
      ],
      "execution_count": 2,
      "outputs": [
        {
          "output_type": "stream",
          "text": [
            "Requirement already satisfied: requests in /usr/local/lib/python3.6/dist-packages (2.23.0)\n",
            "Requirement already satisfied: chardet<4,>=3.0.2 in /usr/local/lib/python3.6/dist-packages (from requests) (3.0.4)\n",
            "Requirement already satisfied: certifi>=2017.4.17 in /usr/local/lib/python3.6/dist-packages (from requests) (2020.12.5)\n",
            "Requirement already satisfied: urllib3!=1.25.0,!=1.25.1,<1.26,>=1.21.1 in /usr/local/lib/python3.6/dist-packages (from requests) (1.24.3)\n",
            "Requirement already satisfied: idna<3,>=2.5 in /usr/local/lib/python3.6/dist-packages (from requests) (2.10)\n"
          ],
          "name": "stdout"
        }
      ]
    },
    {
      "cell_type": "markdown",
      "metadata": {
        "id": "QEg6a5e8bIVU"
      },
      "source": [
        "# Web Scraping de Webs Estáticas "
      ]
    },
    {
      "cell_type": "markdown",
      "metadata": {
        "id": "UDofC-eVj5xI"
      },
      "source": [
        "## \"Cargando\" la pagina"
      ]
    },
    {
      "cell_type": "code",
      "metadata": {
        "id": "xTGDLtwvaLnl"
      },
      "source": [
        "import requests\n",
        "import pprint\n",
        "\n",
        "URL = 'https://www.buscalibre.cl/libros/search?q=bailarina'\n",
        "page = requests.get(URL)\n",
        "pprint.pprint(page.content)"
      ],
      "execution_count": null,
      "outputs": []
    },
    {
      "cell_type": "markdown",
      "metadata": {
        "id": "IiLWARHwvmRe"
      },
      "source": [
        "## Extrayendo un _SOLO_ elemento"
      ]
    },
    {
      "cell_type": "code",
      "metadata": {
        "colab": {
          "base_uri": "https://localhost:8080/"
        },
        "id": "PI-TtwTXawfW",
        "outputId": "5427314d-970b-4b63-b568-77992a2787f4"
      },
      "source": [
        "from bs4 import BeautifulSoup\n",
        "soup = BeautifulSoup(page.content, 'html.parser')\n",
        "#buscamos todos los elementos que esten marcados con las clase producto \n",
        "results = soup.find_all('div',class_='producto')\n",
        "print(len(results))"
      ],
      "execution_count": 27,
      "outputs": [
        {
          "output_type": "stream",
          "text": [
            "40\n"
          ],
          "name": "stdout"
        }
      ]
    },
    {
      "cell_type": "code",
      "metadata": {
        "id": "rM1j_r5_dBCV"
      },
      "source": [
        "# tambien podemos todos los resultados\n",
        "print(soup.prettify())"
      ],
      "execution_count": null,
      "outputs": []
    },
    {
      "cell_type": "code",
      "metadata": {
        "colab": {
          "base_uri": "https://localhost:8080/"
        },
        "id": "m5ergiM7gXRy",
        "outputId": "c6bbe15e-4063-4713-8bc8-55623e50d034"
      },
      "source": [
        "print(results[1])"
      ],
      "execution_count": 7,
      "outputs": [
        {
          "output_type": "stream",
          "text": [
            "<div class=\"producto dcto30 testgrillameta producto1257131\" data-id_producto=\"1257131\" data-precio=\"1870\"><a href=\"https://www.buscalibre.cl/libro-celestina-la-vaca-bailarina/9789872215927/p/1257131\" title=\" Celestina la Vaca Bailarina  \"><div class=\"imagen\"><img alt=\"Celestina la Vaca Bailarina - Ana Iriarte - David Donayo\" class=\"lazyload\" data-src=\"https://images.cdn3.buscalibre.com/fit-in/180x180/52/48/524859d2bcd89acd0b2806bf263ce968.jpg\"/></div><div class=\"nombre margin-top-10 text-align-left\"> Celestina la Vaca Bailarina  </div><div class=\"autor\">Ana Iriarte</div><div class=\"box-stars hide-on-hover\" style=\"height:23px;\"></div><div class=\"autor color-dark-gray metas hide-on-hover\">\n",
            "                        David Donayo, 2005, Tapa blanda, Nuevo\n",
            "                </div><div class=\"box-precio-v2 row margin-top-10 hide-on-hover\"><div class=\"box-dcto col-xs-5\" style=\"\"><div class=\"descuento-v2 color-white position-relative\">25%<div class=\"font-size-small font-weight-light\">dcto</div></div></div><div class=\"box-precios col-xs-7 text-align-right padding-left-0\"><h5 class=\"precio-antes hide-on-hover margin-0 color-dark-gray font-weight-normal\" style=\"\"><del>$ 2.490</del></h5></div></div></a></div>\n"
          ],
          "name": "stdout"
        }
      ]
    },
    {
      "cell_type": "markdown",
      "metadata": {
        "id": "cGSfoC8vy_Ww"
      },
      "source": [
        "**Obteniendo un valor por etiqueta dentro de un elemento de la sopa**"
      ]
    },
    {
      "cell_type": "code",
      "metadata": {
        "colab": {
          "base_uri": "https://localhost:8080/"
        },
        "id": "rTR4_bwAdGS-",
        "outputId": "58e63f8d-a82f-4ba9-d619-41030290bcf1"
      },
      "source": [
        "element = results[1] \n",
        "book_title = element.find('a')['title']\n",
        "print(book_title)"
      ],
      "execution_count": 8,
      "outputs": [
        {
          "output_type": "stream",
          "text": [
            " Celestina la Vaca Bailarina  \n"
          ],
          "name": "stdout"
        }
      ]
    },
    {
      "cell_type": "markdown",
      "metadata": {
        "id": "w7QVq2LrVm8v"
      },
      "source": [
        "**Obteniendo el Autor**"
      ]
    },
    {
      "cell_type": "code",
      "metadata": {
        "colab": {
          "base_uri": "https://localhost:8080/",
          "height": 35
        },
        "id": "uetlhV9mVorh",
        "outputId": "60ffe6f1-658e-466f-8da5-077c471f1543"
      },
      "source": [
        "element.find('div',class_='autor').text"
      ],
      "execution_count": 9,
      "outputs": [
        {
          "output_type": "execute_result",
          "data": {
            "application/vnd.google.colaboratory.intrinsic+json": {
              "type": "string"
            },
            "text/plain": [
              "'Ana Iriarte'"
            ]
          },
          "metadata": {
            "tags": []
          },
          "execution_count": 9
        }
      ]
    },
    {
      "cell_type": "markdown",
      "metadata": {
        "id": "jH3citJ9AlLY"
      },
      "source": [
        "**Obteniendo Atributos custom**"
      ]
    },
    {
      "cell_type": "code",
      "metadata": {
        "colab": {
          "base_uri": "https://localhost:8080/"
        },
        "id": "YKE5KI6wgZ2-",
        "outputId": "2253f225-6ceb-41a7-a263-448357d8a50c"
      },
      "source": [
        "print(element['data-precio'])"
      ],
      "execution_count": 10,
      "outputs": [
        {
          "output_type": "stream",
          "text": [
            "1870\n"
          ],
          "name": "stdout"
        }
      ]
    },
    {
      "cell_type": "markdown",
      "metadata": {
        "id": "_BsZimRUDGXJ"
      },
      "source": [
        "**Obteniendo data de un elemento anidado**"
      ]
    },
    {
      "cell_type": "code",
      "metadata": {
        "id": "ZIk3UjSxDMJz",
        "colab": {
          "base_uri": "https://localhost:8080/"
        },
        "outputId": "b1e9b01f-5384-4439-f0ae-39b0ed84a331"
      },
      "source": [
        "print(element.find_all('div', class_='descuento-v2')[0].text)"
      ],
      "execution_count": 11,
      "outputs": [
        {
          "output_type": "stream",
          "text": [
            "25%dcto\n"
          ],
          "name": "stdout"
        }
      ]
    },
    {
      "cell_type": "code",
      "metadata": {
        "colab": {
          "base_uri": "https://localhost:8080/"
        },
        "id": "YRoiiepDJfiB",
        "outputId": "e9d04adb-610e-4f35-bb3c-f144bfed2bc8"
      },
      "source": [
        "import requests\n",
        "URL = 'https://www.buscalibre.cl/libros/search?q=bailarina&page=100'\n",
        "response = requests.get(URL)\n",
        "not_found = 'Lo sentimos, pero no encontramos lo que buscas'\n",
        "print(response.status_code)\n",
        "print (not_found not in response.text)"
      ],
      "execution_count": 13,
      "outputs": [
        {
          "output_type": "stream",
          "text": [
            "200\n",
            "False\n"
          ],
          "name": "stdout"
        }
      ]
    },
    {
      "cell_type": "markdown",
      "metadata": {
        "id": "6VFC-s_rDODj"
      },
      "source": [
        "**Juntando todo y a obtener los datos de todos los resultados**\n",
        "\n"
      ]
    },
    {
      "cell_type": "code",
      "metadata": {
        "id": "brfgC8CXHbWB"
      },
      "source": [
        "titles = []\n",
        "prices = []\n",
        "discounts = []\n",
        "authors  = []\n",
        "\n",
        "not_found_msg = 'Lo sentimos, pero no encontramos lo que buscas'\n",
        "URL = 'https://www.buscalibre.cl/libros/search?q=bailarina&page='\n",
        "pag_index = 1\n",
        "\n",
        "from bs4 import BeautifulSoup\n",
        "\n",
        "\n",
        "while (True):\n",
        "  URL = 'https://www.buscalibre.cl/libros/search?q=bailarina&page={0}'.format(pag_index)\n",
        "  response = requests.get(URL)\n",
        "  if (not_found_msg not in response.text):\n",
        "    soup = BeautifulSoup(response.content, 'html.parser')\n",
        "    #buscamos todos los elementos que esten marcados con las clase producto \n",
        "    results = soup.find_all('div',class_='producto')\n",
        "    for element in results:\n",
        "      titles.append(element.find('a')['title'])\n",
        "      authors.append(element.find('div',class_='autor').text)\n",
        "      prices.append(element['data-precio'])\n",
        "      discounts.append(element.find_all('div', class_='descuento-v2')[0].text)\n",
        "    pag_index+= 1\n",
        "  else:\n",
        "    break;    "
      ],
      "execution_count": 14,
      "outputs": []
    },
    {
      "cell_type": "code",
      "metadata": {
        "colab": {
          "base_uri": "https://localhost:8080/"
        },
        "id": "IPESxNYsqqKM",
        "outputId": "ebfbe128-2e71-4354-f2db-8103d2efcf30"
      },
      "source": [
        "print(titles)"
      ],
      "execution_count": 15,
      "outputs": [
        {
          "output_type": "stream",
          "text": [
            "[' La Bailarina de Auschwitz  ', ' Celestina la Vaca Bailarina  ', ' El Musico y la Bailarina ', ' Bailarinas a la Moda  ', ' La Bailarina de Auschwitz  ', ' La Bailarina de Auschwitz  ', ' Milagros (Bailarinas  ', ' La Bailarina y el Rubi  ', ' Nerina, la Bailarina  ', ' La Bailarina de izu  ', ' Primera Bailarina y Otras Aventuras  ', ' Bailarina de Auschwitz, la  ', ' La Bailarina de izu  ', ' La Bailarina de izu  ', ' La Bailarina; El Clon  ', ' Bailarina  ', ' La Bailarina de Auschwitz  ', ' Princesas y Bailarinas  ', ' La Bailarina; El Clon  ', ' La Bailarina y el Inglés  ', ' Bailarina ', ' Bailarinas  ', ' Bailarina!  Escucha la Musica de Ballet!  ', ' LA BAILARINA DE IZU ', ' La Bailarina de Auschwitz ', ' ¡Splash!  ', ' Bailarinas  ', ' Diario Secreto de las Bailarinas ', ' CENICIENTA  ', ' UNA BAILARINA BARBIE LIBRO PARA COLOREAR ', ' El Pirata y la Bailarina  ', ' El Misterio De La Bailarina  ', ' Bailarina Vueltas y Piruetas Pasatiempos  ', ' Mi Princesa Bailarina  ', ' La Pequeña Bailarina (mi Gran Sueño)  ', ' Rosa Bailarina  ', ' Las Tres Bailarinas ', ' Las Bailarinas no Hablan  ', ' Sara Nieto Vida de una Bailarina Estrella  ', ' Las Crónicas de Fortuna # 3: La Decisión de la Bailarina  (Las Cronicas de Fortuna)  ', ' bailarina de tres brazos  ', ' PRECIOSA BAILARINA ', ' Pegatinas  ', ' Mi Brillante Bailarina  ', ' Bailarina: Una Estrella Abriendo Camino  ', ' PEQUENA BAILARINA VISTEME ', ' Omaha: La Gata Bailarina  ', ' El Misterio de los Bailarines. Lucero de Plata  ', ' Bailarina. Arcoiris ', ' Bailarina Libro Para Colorear ', ' La Bailarina de Auschwitz: Una Inspiradora Historia de Valentía y Supervivencia (Divulgación)  ', ' Soy Bailarina de Ballet  (Little Golden Book) ', ' Pequeña Bailarina ', ' Wanda, La Cerdita Bailarina  ', ' vaca bailarina vv  ', ' Lenticular Board Book: La Bailarina Mariposa  ', ' Bailarina (baila Conmigo)  ', ' La Bailarina de los Bosques  ', ' ¡Qué gran bailarina! (Libros Para Jóvenes  ', ' Princesa Bailarina (Portuguese Edition) ', ' Bailarinas ', ' Bailarinas  ', ' Bailarina española ', ' Divinas Bailarinas.  ', ' Las Bailarinas Muertas  ', ' Pequeñas Bailarinas  ', ' BAILARINA. ', ' Rataplín y sus canicas (La Estrella Bailarina)  ', ' BAILARINA. ', ' Ultimo Bailarin de Mao, el  ', ' La Bailarina ', ' El Vampiro Bailarin (Bat pat 6)  ', ' La Bailarina Coja  ', ' La Bailarina  ', ' Sou uma Bailarina (Portuguese Edition) ', ' Estudio de Dise¥O Princesa Hada y Bailarina  ', ' El Reinado de las Bailarinas  ', ' Matar a la Bailarina ', ' Bailarina escudilla magica  ', ' Las Princesas Bailarinas  ', ' Bailarines en el Desierto: Tres Sociedades de Baile  ', ' El castillo de la dama bailarina ', ' El Secreto De Las Doce Princesas Bailarinas ', ' bailarina  ', ' Las Doce Princesas Bailarinas (Novela Juvenil Chicas)  ', ' Alana la Bailarina del Agua  ', ' Malinha de Bailarina Brilhante (Portuguese Edition) ', ' La bailarina ; El clon ', ' Busca 1001 Bailarinas y Otros Objetos (Busca y Encuentra)  ', ' Las 4 superhermanas. Lola la bailarina. Libro de actividades ', ' El jeque y la bailarina ', ' La bailarina ; El clon ', ' La Bailarina y el Violinista ', ' Luces Bailarinas Mickey Minnie  ', ' Bailarinas y sus Historias ', ' Bailarina  ', ' Nela (la Estrella Bailarina)  ', ' Bailarinas Fantásticas. Libro de Actividades y Calcomanías  ', ' bailarina  ', ' Daniele: A Doce Bailarina (libro en portugués) ', ' El Ciempies Bailarin (Cuentos Para Sentir Emociones) Gratitud  ', ' Milli, Jack y el Gato Bailarin  ', ' Bailarinas con Pegatinas. Primeras Actividades ', ' Los Zapatos Bailarines  ', ' La bailarina: El clon ', ' mi ratón bailarín  ', ' Bailarina  ', ' Dulces bailarinas (Pegactividades) ', ' La bailarina y el inglés (Novela y Relatos)  ', ' Calco Bailarinas Y Rosas ', ' La Princesa Penny y su Hermana Bailarina  ', ' las zapatillas magicas de la bailarina/ ballerina  ', ' A Vaca Bailarina. Lectura. Primeiro Ciclo. (libro en Gallego)  ', ' La Bailarina sin Corazón. ', ' La bailarina de las sombras  ', '  Bat Pat 6. El vampiro bailarín  ', ' Que Paso con Adriana? (Coleccion la Estrella Bailarina)  ', ' Las Doce Princesas Bailarinas  ', ' Bailarina para niños: Libro para colorear para niños (Spanish Edition) ', ' Diez Dinosaurios Bailarines  ', ' La Bailarina Y El Ingles  ', ' La Bailarina y el ingles (Spanish Edition)  ', ' Princesa Penny y su hermana bailarina, La (Spanish Edition) ', ' (G). Iri�A Bailarina. (A Igualdade Conta)  ', ' La bailarina y el rubí ', ' Omaha 4: La Gata Bailarina (Sillón Orejero)  ', ' La Bailarina del bar Azul ', ' bailarina.  ', ' Las Doce Princesas Bailarinas  ', ' El Bailarin Ruso de Montecarlo  ', ' La Vaca Bailarina (Serie Azul): 9 (Cuentos de Apoyo. Serie Azul)  ', ' Teletusa, una Bailarina Gaditana ', ' La Bailarina de Auschwitz / pd. ', ' EL HADA BAILARINA HADAS BRILLANTES ', ' la bailarina  ', ' Bailarinas ', ' bailarina  ', ' bailarina  ', ' Bailarinas: Lili Chantilly  ', ' bailarina  ', ' antonio el bailarin  ', ' la bailarina  ', ' LA BAILARINA Y EL INGLES. ', ' El caso de la bailarina y su caballo ', ' Un cuento de bailarinas con stikers  ', ' bailarina  ', ' El caso de la bailarina y su caballo ', ' Bailarinas de Todo el Mundo ', ' El Fantasma De La Bailarina  ', ' LA BAILARINA  ', ' yo soy bailarina  ', ' bailarines del fin del mundo los  ', ' La bailarina del Gai ', ' la bailarina. el clon.  ', ' Diversión con Pegatinas: Bailarinas: 1 (Diversion con Pegatinas)  ', ' Mamá, Quiero ser Bailarina  ', ' El Vampiro Bailarin (Bat pat #6)  ', ' Vampirina Quiere ser Bailarina  ', ' cuentos de bailarinas ', ' La Danza. El Entrenamiento Total del Bailarín  ', ' Bailarina Libro de Actividades y Colorear 5 Años y Mayor: Bilingual Ballet Book ', ' Animales Peruanos 1. Martín, el cuy Bailarín ', ' La Petita Ballarina (El meu gran somni)  ', ' La Bailarina y su Archangel: Volume 2 (The Gabriel Ramirez series) ', ' El Bailarin del sol y Otros Cuentos Mayas  ', ' La bailarina y el inglés ', ' cuento troquelado : mimí, la ranita bailarina  ', ' La Bailarina  ', ' El Bailarín Y La Danza : Conversaciones De Merce Cunningham Con Jacqueline Lesschaeve  ', ' la bailarina el clon  ', ' Los Pequeños Bailarines¡ Al Escenario! ', ' Muerte de un Bailarin de Tango  ', ' Celina, la Estrella Bailarina / Celina, the Star Dancer ', ' Bailarina Libro de Actividades y Colorear 5 Años y Mayor: Bilingual Ballet Book ', ' bailarinas del mundo.  ', ' Bailarinas y muñecas : el vestuario en pegatinas  ', ' Sofia la Bailarina  ', ' Bailarines (Coleccion Sherlock Holmes) (Libro + Dvd) (Cartone) ', ' Mi primer maletin de bailarina: juega y aprende  ', ' Bailarina Libro de Actividades y Colorear Edad Preescolar ', ' Bat Pat 6. El vampiro bailarín  ', ' Bailarinas  ', ' las bailarinas muertas  ', ' el talco bajo las bailarinas  ', ' La Bailarina Y El Rubí  ', ' go girl! princesas bailarinas  ', ' col.chicas del mundo ', ' antigua hoja dibujo  ', ' Papa quiero ser bailarín ', ' El Sueño de Melisa: Pequeñas Bailarinas 1 ', ' La Bailarina Y El Inglés  ', ' La Bailarina. El Clon  ', ' LA BAILARINA  ', ' Carolina Otero  ', ' Misterio Dos Bailarins, O  ', ' Los Bailarines Desaparecidos: Un Libro con Solapas de Kate Hindley ', ' Degas: Bailarinas ', ' degas bailarinas  ', ' Angelina: la bailarina po up y teatro musical  ', ' La Ballarina De La Neu (Secret Kingdom) ', ' la bailarina  ', ' Dos Estrellas en el Escenario: Pequeñas Bailarinas 2 ', ' El Bailarín Brillante y otros cuentos sobre la paciencia (Spanish Edition)  ', ' El último bailarín de Mao ', ' secrets de la ballarina, els  ', ' LOLA MONTES. El Rey y la Bailarina ', ' lola montes (el rey y la bailarina)  ', ' Musica Para Tres Bailarinas ', ' MAIGRET Y EL INSPECTOR SIN SUERTE MAIGRET Y EL CUERPO SIN CABEZA LA BAILARINA DEL GAI MOULIN ', ' para ser un buen bailarin  ', ' La Bailarina Y El Rubí  ', ' degas. bailarinas.  ', ' Tarta de Fresa, bailarina (Castellano  ', ' La Bailarina Y El Ingles  ', ' Petita Ballarina (libro en Catalán) ', ' CUENTOS NÚMEROS 7  ', ' las tres marías/ los amores de la nati/ la casa de la bruja/ el millonario y la bailarina  ', ' El Talco Bajo Las Bailarinas (Edicion Bilingue)  ', ' los monos bailarines. cuentos ilustrados para niños  ', ' el bailarin mundano  ', ' El Millonario Y La Bailarina  ', ' Clara Juega a ser Bailarina  ', ' La sombra de la bailarina ', ' Delfin Bailarin  ', ' La Bailarina Del Teatro Real (Version Española De Luis Almerich) Folletin De El Liberal  ', ' Mi... Ratón bailarín. El carácter. La alimentación. Los cuidados y todo lo que hay que saber ', ' MAIGRET Y EL INSPECTOR SIN SUERTE / MAIGRET Y EL CUERPO SIN CABEZA / LA BAILARINA DEL GAI ', ' ALANA, LA BALLARINA DE I AIGUA (libro en Catalán)  ', '  Mandrake, 16. Merlín el mago. El bailarín demonio.   ', ' Pumby, Año Xxii, Nº948: El Oso Bailarin  ', ' Postal Antigua  ', ' Processo Criativo em Dança com uma Bailarina com Deficiência Visual ', ' Antonio, el bailarín de España  ', ' Ana Pawlowa, La Bailarina Del Zar  ', ' La Ballarina: 8 (Petits Plaers) (libro en Catalán) ', ' BARBIE, 12 PRINCESAS BAILARINAS ', ' El Bailarín Pleinair  ', ' La condesita y su bailarín: comedia en un prólogo y cuatro actos, en prosa original ', ' EL SOLDADITO DE PLOMO. EL SOLDAT DE PLOM. DANTZARI LENTEJUELA BIHOTZA. A VALENTE BAILARINA DE PLASTICO. E O SOLDADIÑO DE CHUMBO. ', ' Cuento Del Perro Bailarín.  ', ' Yo Soy Bailarina  ', ' Dos bailarines en la pista (Carlos de Foucauld) ', ' vestuario en pegatinas bailarinas  ', ' anna pawlowa, la bailarina del zar  ', ' bruja estrafalaria quiere ser bailarina  ', ' los monos bailarines. cuentos ilustrados para niños  ', ' El cuento de los osos bailarines ', ' Motivación para bailarines ', ' Antonio, El Bailarin De España  ', ' El Caso Del Dinosaurio Bailarin ', ' Antonio: El Bailarín De España  ', ' La Princesa Raquel y el delfin bailarin (Spanish Edition)  ', ' Princesa De África: La Apasionante Historia De Amor De Una Bailarina Española En El Corazón De Senegal  ', ' Nadie sabe lo que quiere o el bailarin y el trabajador; Susana tiene un secreto ', ' hay que ser modernos. la noche loca. la condesita y su bailarín. su mano derecha..  ', ' novelas :la carrera de doris hart, sentencia secreta, los contrabandistas, y hollywood dispone, rafael gutmann, el camino, amante desconocido, bailarina, el grano de mostaza, hotel berlín 1943  ', ' Antigua Lámina  ', ' la condesita y su bailarín. copmedia en un prólogo y cuatro actos. estrenada en el teatro de la comedia de madrid el 25 de noviembre de 1930.  ', ' Cuentos de oro, volumen 6:: El príncipe feliz ; El árbol de las estrellitas ; El hada del pozo ; El gigante egoísta ; Las princesas bailarinas ; Los tres enanitos del bosque ', ' nadie sabe lo que quiere o el bailarín y el trabajador. humorada en tres actos. / clara luna. juguete cómico en tres actos y en prosa.  ', ' Antonio, El Bailarin De España  ', ' vols ser ballarina?  ', ' la bailarina de las piernas de seda. libro divertido, alegre, inquietante y desmoralizador, a propósito para las personas de buen humor asqueadas de la política, el arte y la moral en uso.  ', ' La ballarina de Berlín (EMPURIES NARRATIVA) ']\n"
          ],
          "name": "stdout"
        }
      ]
    },
    {
      "cell_type": "code",
      "metadata": {
        "colab": {
          "base_uri": "https://localhost:8080/",
          "height": 979
        },
        "id": "GCSAxGlEPJGE",
        "outputId": "0d39ad78-1b0d-4022-d11e-d44fe80958eb"
      },
      "source": [
        "import pandas as pd\n",
        "data = {'title' : titles, 'author':authors, 'price':prices, 'dscto':discounts}\n",
        "df = pd.DataFrame(data)\n",
        "df.tail(30)"
      ],
      "execution_count": 16,
      "outputs": [
        {
          "output_type": "execute_result",
          "data": {
            "text/html": [
              "<div>\n",
              "<style scoped>\n",
              "    .dataframe tbody tr th:only-of-type {\n",
              "        vertical-align: middle;\n",
              "    }\n",
              "\n",
              "    .dataframe tbody tr th {\n",
              "        vertical-align: top;\n",
              "    }\n",
              "\n",
              "    .dataframe thead th {\n",
              "        text-align: right;\n",
              "    }\n",
              "</style>\n",
              "<table border=\"1\" class=\"dataframe\">\n",
              "  <thead>\n",
              "    <tr style=\"text-align: right;\">\n",
              "      <th></th>\n",
              "      <th>title</th>\n",
              "      <th>author</th>\n",
              "      <th>price</th>\n",
              "      <th>dscto</th>\n",
              "    </tr>\n",
              "  </thead>\n",
              "  <tbody>\n",
              "    <tr>\n",
              "      <th>234</th>\n",
              "      <td>La Ballarina: 8 (Petits Plaers) (libro en Cat...</td>\n",
              "      <td>Ōgai Mori</td>\n",
              "      <td>20690</td>\n",
              "      <td>28%dcto</td>\n",
              "    </tr>\n",
              "    <tr>\n",
              "      <th>235</th>\n",
              "      <td>BARBIE, 12 PRINCESAS BAILARINAS</td>\n",
              "      <td></td>\n",
              "      <td>38820</td>\n",
              "      <td></td>\n",
              "    </tr>\n",
              "    <tr>\n",
              "      <th>236</th>\n",
              "      <td>El Bailarín Pleinair</td>\n",
              "      <td>Patricio Bulnes</td>\n",
              "      <td>38820</td>\n",
              "      <td></td>\n",
              "    </tr>\n",
              "    <tr>\n",
              "      <th>237</th>\n",
              "      <td>La condesita y su bailarín: comedia en un pró...</td>\n",
              "      <td>Maura, Honorio</td>\n",
              "      <td>21140</td>\n",
              "      <td></td>\n",
              "    </tr>\n",
              "    <tr>\n",
              "      <th>238</th>\n",
              "      <td>EL SOLDADITO DE PLOMO. EL SOLDAT DE PLOM. DAN...</td>\n",
              "      <td></td>\n",
              "      <td>29120</td>\n",
              "      <td></td>\n",
              "    </tr>\n",
              "    <tr>\n",
              "      <th>239</th>\n",
              "      <td>Cuento Del Perro Bailarín.</td>\n",
              "      <td>Trigos, Juan.</td>\n",
              "      <td>87960</td>\n",
              "      <td></td>\n",
              "    </tr>\n",
              "    <tr>\n",
              "      <th>240</th>\n",
              "      <td>Yo Soy Bailarina</td>\n",
              "      <td>Dick, Savage, Peter, González - Blanco, Esthe ...</td>\n",
              "      <td>45340</td>\n",
              "      <td></td>\n",
              "    </tr>\n",
              "    <tr>\n",
              "      <th>241</th>\n",
              "      <td>Dos bailarines en la pista (Carlos de Foucauld)</td>\n",
              "      <td>Lepetit, Charles</td>\n",
              "      <td>28380</td>\n",
              "      <td></td>\n",
              "    </tr>\n",
              "    <tr>\n",
              "      <th>242</th>\n",
              "      <td>vestuario en pegatinas bailarinas</td>\n",
              "      <td></td>\n",
              "      <td>18060</td>\n",
              "      <td>28%dcto</td>\n",
              "    </tr>\n",
              "    <tr>\n",
              "      <th>243</th>\n",
              "      <td>anna pawlowa, la bailarina del zar</td>\n",
              "      <td>schmidt aleman henz p.</td>\n",
              "      <td>65230</td>\n",
              "      <td></td>\n",
              "    </tr>\n",
              "    <tr>\n",
              "      <th>244</th>\n",
              "      <td>bruja estrafalaria quiere ser bailarina</td>\n",
              "      <td>hiawyn horam</td>\n",
              "      <td>20420</td>\n",
              "      <td>28%dcto</td>\n",
              "    </tr>\n",
              "    <tr>\n",
              "      <th>245</th>\n",
              "      <td>los monos bailarines. cuentos ilustrados para...</td>\n",
              "      <td></td>\n",
              "      <td>40950</td>\n",
              "      <td></td>\n",
              "    </tr>\n",
              "    <tr>\n",
              "      <th>246</th>\n",
              "      <td>El cuento de los osos bailarines</td>\n",
              "      <td>Mihr, Ulrich</td>\n",
              "      <td>42080</td>\n",
              "      <td></td>\n",
              "    </tr>\n",
              "    <tr>\n",
              "      <th>247</th>\n",
              "      <td>Motivación para bailarines</td>\n",
              "      <td>Sylvia Fuentes</td>\n",
              "      <td>47960</td>\n",
              "      <td></td>\n",
              "    </tr>\n",
              "    <tr>\n",
              "      <th>248</th>\n",
              "      <td>Antonio, El Bailarin De España</td>\n",
              "      <td>Vv. A A</td>\n",
              "      <td>114190</td>\n",
              "      <td></td>\n",
              "    </tr>\n",
              "    <tr>\n",
              "      <th>249</th>\n",
              "      <td>El Caso Del Dinosaurio Bailarin</td>\n",
              "      <td>Stine Megan</td>\n",
              "      <td>61640</td>\n",
              "      <td></td>\n",
              "    </tr>\n",
              "    <tr>\n",
              "      <th>250</th>\n",
              "      <td>Antonio: El Bailarín De España</td>\n",
              "      <td>Vv. Aa</td>\n",
              "      <td>199530</td>\n",
              "      <td></td>\n",
              "    </tr>\n",
              "    <tr>\n",
              "      <th>251</th>\n",
              "      <td>La Princesa Raquel y el delfin bailarin (Span...</td>\n",
              "      <td>Vivian French</td>\n",
              "      <td>16200</td>\n",
              "      <td>28%dcto</td>\n",
              "    </tr>\n",
              "    <tr>\n",
              "      <th>252</th>\n",
              "      <td>Princesa De África: La Apasionante Historia D...</td>\n",
              "      <td>Sonia Sampayo Cabrera</td>\n",
              "      <td>51870</td>\n",
              "      <td></td>\n",
              "    </tr>\n",
              "    <tr>\n",
              "      <th>253</th>\n",
              "      <td>Nadie sabe lo que quiere o el bailarin y el t...</td>\n",
              "      <td>Benavente, Jacinto; Martínez Sierra, G. / Maur...</td>\n",
              "      <td>32110</td>\n",
              "      <td></td>\n",
              "    </tr>\n",
              "    <tr>\n",
              "      <th>254</th>\n",
              "      <td>hay que ser modernos. la noche loca. la conde...</td>\n",
              "      <td>honorio maura</td>\n",
              "      <td>38420</td>\n",
              "      <td></td>\n",
              "    </tr>\n",
              "    <tr>\n",
              "      <th>255</th>\n",
              "      <td>novelas :la carrera de doris hart, sentencia ...</td>\n",
              "      <td>baum vicki</td>\n",
              "      <td>46380</td>\n",
              "      <td></td>\n",
              "    </tr>\n",
              "    <tr>\n",
              "      <th>256</th>\n",
              "      <td>Antigua Lámina</td>\n",
              "      <td>La Tierra, Underwood Los Hombres</td>\n",
              "      <td>27450</td>\n",
              "      <td></td>\n",
              "    </tr>\n",
              "    <tr>\n",
              "      <th>257</th>\n",
              "      <td>la condesita y su bailarín. copmedia en un pr...</td>\n",
              "      <td>honorio. maura</td>\n",
              "      <td>36720</td>\n",
              "      <td></td>\n",
              "    </tr>\n",
              "    <tr>\n",
              "      <th>258</th>\n",
              "      <td>Cuentos de oro, volumen 6:: El príncipe feliz...</td>\n",
              "      <td></td>\n",
              "      <td>33400</td>\n",
              "      <td></td>\n",
              "    </tr>\n",
              "    <tr>\n",
              "      <th>259</th>\n",
              "      <td>nadie sabe lo que quiere o el bailarín y el t...</td>\n",
              "      <td>jacinto  benavente</td>\n",
              "      <td>36720</td>\n",
              "      <td></td>\n",
              "    </tr>\n",
              "    <tr>\n",
              "      <th>260</th>\n",
              "      <td>Antonio, El Bailarin De España</td>\n",
              "      <td>Dibujos Especialmente Dedicados De Picasso, Je...</td>\n",
              "      <td>34820</td>\n",
              "      <td></td>\n",
              "    </tr>\n",
              "    <tr>\n",
              "      <th>261</th>\n",
              "      <td>vols ser ballarina?</td>\n",
              "      <td>harriet castor</td>\n",
              "      <td>39950</td>\n",
              "      <td>28%dcto</td>\n",
              "    </tr>\n",
              "    <tr>\n",
              "      <th>262</th>\n",
              "      <td>la bailarina de las piernas de seda. libro di...</td>\n",
              "      <td>león villanua</td>\n",
              "      <td>58380</td>\n",
              "      <td></td>\n",
              "    </tr>\n",
              "    <tr>\n",
              "      <th>263</th>\n",
              "      <td>La ballarina de Berlín (EMPURIES NARRATIVA)</td>\n",
              "      <td>Joan Daniel Bezsonoff Montalat</td>\n",
              "      <td>27550</td>\n",
              "      <td>28%dcto</td>\n",
              "    </tr>\n",
              "  </tbody>\n",
              "</table>\n",
              "</div>"
            ],
            "text/plain": [
              "                                                 title  ...    dscto\n",
              "234   La Ballarina: 8 (Petits Plaers) (libro en Cat...  ...  28%dcto\n",
              "235                   BARBIE, 12 PRINCESAS BAILARINAS   ...         \n",
              "236                             El Bailarín Pleinair    ...         \n",
              "237   La condesita y su bailarín: comedia en un pró...  ...         \n",
              "238   EL SOLDADITO DE PLOMO. EL SOLDAT DE PLOM. DAN...  ...         \n",
              "239                       Cuento Del Perro Bailarín.    ...         \n",
              "240                                 Yo Soy Bailarina    ...         \n",
              "241   Dos bailarines en la pista (Carlos de Foucauld)   ...         \n",
              "242                vestuario en pegatinas bailarinas    ...  28%dcto\n",
              "243               anna pawlowa, la bailarina del zar    ...         \n",
              "244          bruja estrafalaria quiere ser bailarina    ...  28%dcto\n",
              "245   los monos bailarines. cuentos ilustrados para...  ...         \n",
              "246                  El cuento de los osos bailarines   ...         \n",
              "247                        Motivación para bailarines   ...         \n",
              "248                   Antonio, El Bailarin De España    ...         \n",
              "249                   El Caso Del Dinosaurio Bailarin   ...         \n",
              "250                   Antonio: El Bailarín De España    ...         \n",
              "251   La Princesa Raquel y el delfin bailarin (Span...  ...  28%dcto\n",
              "252   Princesa De África: La Apasionante Historia D...  ...         \n",
              "253   Nadie sabe lo que quiere o el bailarin y el t...  ...         \n",
              "254   hay que ser modernos. la noche loca. la conde...  ...         \n",
              "255   novelas :la carrera de doris hart, sentencia ...  ...         \n",
              "256                                   Antigua Lámina    ...         \n",
              "257   la condesita y su bailarín. copmedia en un pr...  ...         \n",
              "258   Cuentos de oro, volumen 6:: El príncipe feliz...  ...         \n",
              "259   nadie sabe lo que quiere o el bailarín y el t...  ...         \n",
              "260                   Antonio, El Bailarin De España    ...         \n",
              "261                              vols ser ballarina?    ...  28%dcto\n",
              "262   la bailarina de las piernas de seda. libro di...  ...         \n",
              "263       La ballarina de Berlín (EMPURIES NARRATIVA)   ...  28%dcto\n",
              "\n",
              "[30 rows x 4 columns]"
            ]
          },
          "metadata": {
            "tags": []
          },
          "execution_count": 16
        }
      ]
    },
    {
      "cell_type": "code",
      "metadata": {
        "colab": {
          "base_uri": "https://localhost:8080/",
          "height": 204
        },
        "id": "M1y6Ed64u8Gc",
        "outputId": "7753a195-5923-427e-a09c-efa30c246a57"
      },
      "source": [
        "# remover el % de la columan dscto\n",
        "df['dscto'] = df['dscto'].apply(lambda x : x[:x.find('%dcto'):])\n",
        "df.head()"
      ],
      "execution_count": 17,
      "outputs": [
        {
          "output_type": "execute_result",
          "data": {
            "text/html": [
              "<div>\n",
              "<style scoped>\n",
              "    .dataframe tbody tr th:only-of-type {\n",
              "        vertical-align: middle;\n",
              "    }\n",
              "\n",
              "    .dataframe tbody tr th {\n",
              "        vertical-align: top;\n",
              "    }\n",
              "\n",
              "    .dataframe thead th {\n",
              "        text-align: right;\n",
              "    }\n",
              "</style>\n",
              "<table border=\"1\" class=\"dataframe\">\n",
              "  <thead>\n",
              "    <tr style=\"text-align: right;\">\n",
              "      <th></th>\n",
              "      <th>title</th>\n",
              "      <th>author</th>\n",
              "      <th>price</th>\n",
              "      <th>dscto</th>\n",
              "    </tr>\n",
              "  </thead>\n",
              "  <tbody>\n",
              "    <tr>\n",
              "      <th>0</th>\n",
              "      <td>La Bailarina de Auschwitz</td>\n",
              "      <td>Edith Eger</td>\n",
              "      <td>13600</td>\n",
              "      <td>15</td>\n",
              "    </tr>\n",
              "    <tr>\n",
              "      <th>1</th>\n",
              "      <td>Celestina la Vaca Bailarina</td>\n",
              "      <td>Ana Iriarte</td>\n",
              "      <td>1870</td>\n",
              "      <td>25</td>\n",
              "    </tr>\n",
              "    <tr>\n",
              "      <th>2</th>\n",
              "      <td>El Musico y la Bailarina</td>\n",
              "      <td>Ximena Bruno</td>\n",
              "      <td>7990</td>\n",
              "      <td></td>\n",
              "    </tr>\n",
              "    <tr>\n",
              "      <th>3</th>\n",
              "      <td>Bailarinas a la Moda</td>\n",
              "      <td>Latinbooks</td>\n",
              "      <td>2690</td>\n",
              "      <td>25</td>\n",
              "    </tr>\n",
              "    <tr>\n",
              "      <th>4</th>\n",
              "      <td>La Bailarina de Auschwitz</td>\n",
              "      <td>Edith Eger</td>\n",
              "      <td>17980</td>\n",
              "      <td>32</td>\n",
              "    </tr>\n",
              "  </tbody>\n",
              "</table>\n",
              "</div>"
            ],
            "text/plain": [
              "                            title        author  price dscto\n",
              "0     La Bailarina de Auschwitz      Edith Eger  13600    15\n",
              "1   Celestina la Vaca Bailarina     Ana Iriarte   1870    25\n",
              "2       El Musico y la Bailarina   Ximena Bruno   7990      \n",
              "3          Bailarinas a la Moda      Latinbooks   2690    25\n",
              "4     La Bailarina de Auschwitz      Edith Eger  17980    32"
            ]
          },
          "metadata": {
            "tags": []
          },
          "execution_count": 17
        }
      ]
    },
    {
      "cell_type": "markdown",
      "metadata": {
        "id": "bufcl7O20NKm"
      },
      "source": [
        "# Web Scraping con Webs Dinámicas"
      ]
    },
    {
      "cell_type": "code",
      "metadata": {
        "id": "2Qqc7-o4j_l2"
      },
      "source": [
        "!apt update\n",
        "!apt install chromium-chromedriver\n",
        "!pip install selenium"
      ],
      "execution_count": null,
      "outputs": []
    },
    {
      "cell_type": "code",
      "metadata": {
        "id": "EUzUYRoYjwl2"
      },
      "source": [
        "\n",
        "import time\n",
        "from selenium import webdriver\n",
        "from selenium.webdriver.support.ui import WebDriverWait\n",
        "options = webdriver.ChromeOptions()\n",
        "options.add_argument('--headless')\n",
        "options.add_argument('--no-sandbox')\n",
        "options.add_argument('--disable-dev-shm-usage')\n",
        "\n",
        "driver = webdriver.Chrome(options=options)\n",
        "\n",
        "driver.get(\"http://www.segurosimple.com/\")\n",
        "\n",
        "element = driver.find_element_by_id(\"Marca\")\n",
        "#modelo = \"Daewoo\"\n",
        "modelo = \"Alfa-Romeo\"\n",
        "element.send_keys(modelo)\n",
        "\n",
        "annio_fabricacion = \"2008\"\n",
        "element = driver.find_element_by_id(\"Año\")\n",
        "element.send_keys(annio_fabricacion)\n",
        "\n",
        "\n",
        "element = driver.find_element_by_id(\"Modelo\")\n",
        "assert len(element.text) > len(\":: Seleccione ::\"), \\\n",
        "        \"Los modelos de la marca %s no fueron cargados\" % modelo\n",
        "modelo = \"147 1.6 TI\"\n",
        "element.send_keys(modelo)\n",
        "\n",
        "driver.find_element_by_id(\"TelefonoCotizacion\").send_keys(\"997261789\")\n",
        "\n",
        "element = driver.find_element_by_id(\"EmailCotizacion\")\n",
        "element.send_keys(\"mimail@yahoo.com\")\n",
        "\n",
        "element = driver.find_element_by_id(\"edadUsuario\")\n",
        "element.send_keys(\"30\")\n",
        "\n",
        "\n",
        "driver.find_element_by_id(\"btnComparar\").click()\n",
        "\n",
        "# Mala practica \n",
        "time.sleep(3)\n",
        "print(driver.page_source)  # results"
      ],
      "execution_count": null,
      "outputs": []
    },
    {
      "cell_type": "code",
      "metadata": {
        "id": "0k3VUoShlEfm"
      },
      "source": [
        "from bs4 import BeautifulSoup\n",
        "page_source = driver.page_source\n",
        "soup = BeautifulSoup(page_source, 'lxml')"
      ],
      "execution_count": 40,
      "outputs": []
    },
    {
      "cell_type": "code",
      "metadata": {
        "colab": {
          "base_uri": "https://localhost:8080/"
        },
        "id": "KYFtlhFHmKBJ",
        "outputId": "36cc2788-8ebc-419e-e8f6-9f4b9e3f18a8"
      },
      "source": [
        "container = soup.find(\"div\",{\"id\":'CompadadorResultadoDesktop'}) \n",
        "rows = container.findAll('tr')\n",
        "for row in rows:\n",
        "  broker_img, broker_price = None, None\n",
        "  broker_img = (row.find_all('td')[0]).find('img')\n",
        "  if broker_img != None:\n",
        "    broker_name = (broker_img['alt'])\n",
        "    broker_price = (row.find_all('td')[1]).find('h3')\n",
        "    if broker_price != None:\n",
        "      broker_price = (broker_price.text)\n",
        "    print (broker_name,broker_price)    \n"
      ],
      "execution_count": 46,
      "outputs": [
        {
          "output_type": "stream",
          "text": [
            "Mapfre $426\n",
            "La Positiva $429\n",
            "Rimac $518\n"
          ],
          "name": "stdout"
        }
      ]
    },
    {
      "cell_type": "markdown",
      "metadata": {
        "id": "AS3u9HIT1AHw"
      },
      "source": [
        "# Recursos Útiles\n",
        "* [Guía de inicio de Beautiful Soup](https://j2logo.com/python/web-scraping-con-python-guia-inicio-beautifulsoup/)\n",
        "* [Selectores CSS](https://flukeout.github.io/)\n",
        "* [Primeros para pasos con Selenium, ejemplos con python](https://realpython.com/modern-web-automation-with-python-and-selenium/://)"
      ]
    }
  ]
}